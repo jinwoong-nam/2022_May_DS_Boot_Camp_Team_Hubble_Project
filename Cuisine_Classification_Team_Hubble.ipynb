{
 "cells": [
  {
   "cell_type": "markdown",
   "id": "32ad6ee3",
   "metadata": {},
   "source": [
    "# Cuisine Classification"
   ]
  },
  {
   "cell_type": "markdown",
   "id": "1d0c6d68",
   "metadata": {},
   "source": [
    "In this project, cuisine types are classified based on the ingredients used."
   ]
  },
  {
   "cell_type": "markdown",
   "id": "13905324",
   "metadata": {},
   "source": [
    "## Data Gathering"
   ]
  },
  {
   "cell_type": "code",
   "execution_count": 126,
   "id": "0e15fd59",
   "metadata": {},
   "outputs": [
    {
     "data": {
      "text/html": [
       "<div>\n",
       "<style scoped>\n",
       "    .dataframe tbody tr th:only-of-type {\n",
       "        vertical-align: middle;\n",
       "    }\n",
       "\n",
       "    .dataframe tbody tr th {\n",
       "        vertical-align: top;\n",
       "    }\n",
       "\n",
       "    .dataframe thead th {\n",
       "        text-align: right;\n",
       "    }\n",
       "</style>\n",
       "<table border=\"1\" class=\"dataframe\">\n",
       "  <thead>\n",
       "    <tr style=\"text-align: right;\">\n",
       "      <th></th>\n",
       "      <th>id</th>\n",
       "      <th>cuisine</th>\n",
       "      <th>ingredients</th>\n",
       "    </tr>\n",
       "  </thead>\n",
       "  <tbody>\n",
       "    <tr>\n",
       "      <th>0</th>\n",
       "      <td>10259</td>\n",
       "      <td>greek</td>\n",
       "      <td>[romaine lettuce, black olives, grape tomatoes...</td>\n",
       "    </tr>\n",
       "    <tr>\n",
       "      <th>1</th>\n",
       "      <td>25693</td>\n",
       "      <td>southern_us</td>\n",
       "      <td>[plain flour, ground pepper, salt, tomatoes, g...</td>\n",
       "    </tr>\n",
       "    <tr>\n",
       "      <th>2</th>\n",
       "      <td>20130</td>\n",
       "      <td>filipino</td>\n",
       "      <td>[eggs, pepper, salt, mayonaise, cooking oil, g...</td>\n",
       "    </tr>\n",
       "    <tr>\n",
       "      <th>3</th>\n",
       "      <td>22213</td>\n",
       "      <td>indian</td>\n",
       "      <td>[water, vegetable oil, wheat, salt]</td>\n",
       "    </tr>\n",
       "    <tr>\n",
       "      <th>4</th>\n",
       "      <td>13162</td>\n",
       "      <td>indian</td>\n",
       "      <td>[black pepper, shallots, cornflour, cayenne pe...</td>\n",
       "    </tr>\n",
       "  </tbody>\n",
       "</table>\n",
       "</div>"
      ],
      "text/plain": [
       "      id      cuisine                                        ingredients\n",
       "0  10259        greek  [romaine lettuce, black olives, grape tomatoes...\n",
       "1  25693  southern_us  [plain flour, ground pepper, salt, tomatoes, g...\n",
       "2  20130     filipino  [eggs, pepper, salt, mayonaise, cooking oil, g...\n",
       "3  22213       indian                [water, vegetable oil, wheat, salt]\n",
       "4  13162       indian  [black pepper, shallots, cornflour, cayenne pe..."
      ]
     },
     "execution_count": 126,
     "metadata": {},
     "output_type": "execute_result"
    }
   ],
   "source": [
    "# import modules and the data file\n",
    "import numpy as np\n",
    "import pandas as pd\n",
    "import matplotlib.pyplot as plt\n",
    "\n",
    "%matplotlib inline\n",
    "\n",
    "df=pd.read_json('./train.json')\n",
    "df.head()"
   ]
  },
  {
   "cell_type": "code",
   "execution_count": 127,
   "id": "894a2c78",
   "metadata": {},
   "outputs": [
    {
     "name": "stdout",
     "output_type": "stream",
     "text": [
      "<class 'pandas.core.frame.DataFrame'>\n",
      "RangeIndex: 39774 entries, 0 to 39773\n",
      "Data columns (total 3 columns):\n",
      " #   Column       Non-Null Count  Dtype \n",
      "---  ------       --------------  ----- \n",
      " 0   id           39774 non-null  int64 \n",
      " 1   cuisine      39774 non-null  object\n",
      " 2   ingredients  39774 non-null  object\n",
      "dtypes: int64(1), object(2)\n",
      "memory usage: 932.3+ KB\n"
     ]
    }
   ],
   "source": [
    "df.info()"
   ]
  },
  {
   "cell_type": "markdown",
   "id": "aa6f3e2a",
   "metadata": {},
   "source": [
    "- The data set consists of three columns (id, cuisine, ingredients)  \n",
    "- Null values are not found  \n",
    "- Since the ingredients column has lots of different types of words in each row, we need to proceed to clean this column first"
   ]
  },
  {
   "cell_type": "markdown",
   "id": "10deec15",
   "metadata": {},
   "source": [
    "## Data cleaning"
   ]
  },
  {
   "cell_type": "markdown",
   "id": "658a5f0c",
   "metadata": {},
   "source": [
    "The ingredients list will be cleaned up -> in lowercase, without punctuations, digits, parenthesis, brand names."
   ]
  },
  {
   "cell_type": "code",
   "execution_count": 105,
   "id": "c7fa06d1",
   "metadata": {},
   "outputs": [
    {
     "name": "stdout",
     "output_type": "stream",
     "text": [
      "      id      cuisine                                        ingredients  \\\n",
      "0  10259        greek  [romaine lettuce, black olives, grape tomatoes...   \n",
      "1  25693  southern_us  [plain flour, ground pepper, salt, tomatoes, g...   \n",
      "2  20130     filipino  [eggs, pepper, salt, mayonaise, cooking oil, g...   \n",
      "3  22213       indian                [water, vegetable oil, wheat, salt]   \n",
      "4  13162       indian  [black pepper, shallots, cornflour, cayenne pe...   \n",
      "5   6602     jamaican  [plain flour, sugar, butter, eggs, fresh ginge...   \n",
      "6  42779      spanish  [olive oil, salt, medium shrimp, pepper, garli...   \n",
      "7   3735      italian  [sugar, pistachio nuts, white almond bark, flo...   \n",
      "8  16903      mexican  [olive oil, purple onion, fresh pineapple, por...   \n",
      "9  12734      italian  [chopped tomatoes, fresh basil, garlic, extra-...   \n",
      "\n",
      "                                                 ing  \\\n",
      "0  romaine lettuce black olives grape tomatoes ga...   \n",
      "1  plain flour ground pepper salt tomatoes ground...   \n",
      "2  eggs pepper salt mayonaise cooking oil green c...   \n",
      "3                     water vegetable oil wheat salt   \n",
      "4  black pepper shallots cornflour cayenne pepper...   \n",
      "5  plain flour sugar butter eggs fresh ginger roo...   \n",
      "6  olive oil salt medium shrimp pepper garlic cho...   \n",
      "7  sugar pistachio nuts white almond bark flour v...   \n",
      "8  olive oil purple onion fresh pineapple pork po...   \n",
      "9  chopped tomatoes fresh basil garlic extra-virg...   \n",
      "\n",
      "                                             ing_mod  \n",
      "0  romaine lettuce black olives grape tomatoes ga...  \n",
      "1  plain flour ground pepper salt tomatoes ground...  \n",
      "2  eggs pepper salt mayonaise cooking oil green c...  \n",
      "3                     water vegetable oil wheat salt  \n",
      "4  black pepper shallots cornflour cayenne pepper...  \n",
      "5  plain flour sugar butter eggs fresh ginger roo...  \n",
      "6  olive oil salt medium shrimp pepper garlic cho...  \n",
      "7  sugar pistachio nuts white almond bark flour v...  \n",
      "8  olive oil purple onion fresh pineapple pork po...  \n",
      "9  chopped tomatoes fresh basil garlic extravirgi...  \n"
     ]
    }
   ],
   "source": [
    "ing = []\n",
    "for i in df['ingredients']:\n",
    "    i = ' '.join(i)\n",
    "    ing.append(i)\n",
    "\n",
    "df['ing'] = ing\n",
    "\n",
    "import re  #regular expression package\n",
    "l=[]\n",
    "for i in df['ing']:\n",
    "    \n",
    "    #Remove punctuations\n",
    "    i=re.sub(r'[^\\w\\s]','',i)\n",
    "    \n",
    "    #Remove Digits\n",
    "    i=re.sub(r\"(\\d)\", \"\", i)\n",
    "    \n",
    "    #Remove content inside parenthesis\n",
    "    i=re.sub(r'\\([^)]*\\)', '', i)\n",
    "    \n",
    "    #Remove Brand Name\n",
    "    i=re.sub(u'\\w*\\u2122', '', i)\n",
    "    \n",
    "    #Convert to lowercase\n",
    "    i=i.lower()\n",
    "    \n",
    "    l.append(i)\n",
    "df['ing_mod']=l\n",
    "print(df.head(10))"
   ]
  },
  {
   "cell_type": "markdown",
   "id": "de7f0cac",
   "metadata": {},
   "source": [
    "## Exploratory Data Analysis"
   ]
  },
  {
   "cell_type": "markdown",
   "id": "d9f0302c",
   "metadata": {},
   "source": [
    "For EDA, we first investigate the top ingredients in all cuisines followed by in each type of cuisine."
   ]
  },
  {
   "cell_type": "markdown",
   "id": "f3b45a7b",
   "metadata": {},
   "source": [
    "### Top 10 Ingredients in All Cuisines"
   ]
  },
  {
   "cell_type": "code",
   "execution_count": 106,
   "id": "e091e030",
   "metadata": {},
   "outputs": [
    {
     "data": {
      "text/plain": [
       "[('pepper', 25742),\n",
       " ('salt', 24426),\n",
       " ('oil', 23323),\n",
       " ('garlic', 18941),\n",
       " ('ground', 18256),\n",
       " ('fresh', 17853),\n",
       " ('sauce', 13129),\n",
       " ('sugar', 12493),\n",
       " ('onions', 12341),\n",
       " ('cheese', 11776)]"
      ]
     },
     "execution_count": 106,
     "metadata": {},
     "output_type": "execute_result"
    }
   ],
   "source": [
    "from collections import Counter\n",
    "top_10_ing_total = Counter(\" \".join(df[\"ing_mod\"]).split()).most_common(10)\n",
    "top_10_ing_total"
   ]
  },
  {
   "cell_type": "code",
   "execution_count": 107,
   "id": "c2e66410",
   "metadata": {},
   "outputs": [],
   "source": [
    "# function for listing top 10 ingredients\n",
    "def top_10_ing(country):\n",
    "    top_10_ing = Counter(\" \".join(df[df['cuisine'] == country][\"ing_mod\"]).split()).most_common(10)\n",
    "    print(top_10_ing)"
   ]
  },
  {
   "cell_type": "markdown",
   "id": "fa513309",
   "metadata": {},
   "source": [
    "### Top 10 Ingredients in Italian Cuisine"
   ]
  },
  {
   "cell_type": "code",
   "execution_count": 108,
   "id": "33672e76",
   "metadata": {},
   "outputs": [
    {
     "name": "stdout",
     "output_type": "stream",
     "text": [
      "[('cheese', 5883), ('pepper', 5524), ('oil', 5183), ('salt', 4880), ('fresh', 4589), ('olive', 4566), ('garlic', 4177), ('ground', 2981), ('tomatoes', 2473), ('black', 2473)]\n"
     ]
    }
   ],
   "source": [
    "# italian cuisine\n",
    "top_10_ing(\"italian\")"
   ]
  },
  {
   "cell_type": "markdown",
   "id": "fd041cf3",
   "metadata": {},
   "source": [
    "### Top 10 Ingredients in Mexican Cuisine"
   ]
  },
  {
   "cell_type": "code",
   "execution_count": 109,
   "id": "b8acd2d8",
   "metadata": {},
   "outputs": [
    {
     "name": "stdout",
     "output_type": "stream",
     "text": [
      "[('pepper', 4355), ('salt', 3913), ('ground', 3495), ('garlic', 3224), ('cheese', 2994), ('oil', 2978), ('cilantro', 2794), ('fresh', 2597), ('chicken', 2461), ('onions', 2370)]\n"
     ]
    }
   ],
   "source": [
    "# mexican cuisine\n",
    "top_10_ing(\"mexican\")"
   ]
  },
  {
   "cell_type": "markdown",
   "id": "63243325",
   "metadata": {},
   "source": [
    "### Top 10 Ingredients in Southern US Cuisine"
   ]
  },
  {
   "cell_type": "code",
   "execution_count": 110,
   "id": "202fb38c",
   "metadata": {},
   "outputs": [
    {
     "name": "stdout",
     "output_type": "stream",
     "text": [
      "[('salt', 3041), ('pepper', 2680), ('sugar', 2318), ('butter', 2144), ('flour', 1847), ('ground', 1532), ('eggs', 1386), ('powder', 1302), ('oil', 1276), ('baking', 1231)]\n"
     ]
    }
   ],
   "source": [
    "# southern US\n",
    "top_10_ing(\"southern_us\")"
   ]
  },
  {
   "cell_type": "markdown",
   "id": "ca84b54f",
   "metadata": {},
   "source": [
    "### Top 10 Ingredients in Indian Cuisine"
   ]
  },
  {
   "cell_type": "code",
   "execution_count": 111,
   "id": "dac1a1ab",
   "metadata": {},
   "outputs": [
    {
     "name": "stdout",
     "output_type": "stream",
     "text": [
      "[('ground', 2792), ('salt', 2389), ('oil', 2031), ('garlic', 1637), ('fresh', 1636), ('cumin', 1563), ('powder', 1500), ('ginger', 1475), ('pepper', 1413), ('onions', 1294)]\n"
     ]
    }
   ],
   "source": [
    "# indian\n",
    "top_10_ing(\"indian\")"
   ]
  },
  {
   "cell_type": "markdown",
   "id": "988c6c2c",
   "metadata": {},
   "source": [
    "In this way, we can identify the top 10 ingredients for each cuisine type and get some sense of what ingredients are uniquely used for each cuisine type."
   ]
  },
  {
   "cell_type": "markdown",
   "id": "5fa398a9",
   "metadata": {},
   "source": [
    "### Pie charts for top 10 ingredients by cuisine type"
   ]
  },
  {
   "cell_type": "code",
   "execution_count": 112,
   "id": "d35bea18",
   "metadata": {},
   "outputs": [
    {
     "data": {
      "image/png": "[encoded data removed]",
      "text/plain": [
       "<Figure size 432x288 with 1 Axes>"
      ]
     },
     "metadata": {},
     "output_type": "display_data"
    }
   ],
   "source": [
    "# all\n",
    "labels = 'pepper', 'salt', 'oil', 'garlic', 'ground', 'fresh', 'sauce', 'sugar', 'onions', 'cheese'\n",
    "sizes = [25742, 24426, 23323, 18941, 18256, 17853, 13129, 12493, 12341, 11776]\n",
    "\n",
    "fig1, ax1 = plt.subplots()\n",
    "ax1.pie(sizes, labels=labels,\n",
    "        shadow=True, startangle=90)\n",
    "ax1.axis('equal')  # Equal aspect ratio ensures that pie is drawn as a circle.\n",
    "\n",
    "plt.show()"
   ]
  },
  {
   "cell_type": "code",
   "execution_count": 113,
   "id": "0a6c9d2f",
   "metadata": {},
   "outputs": [
    {
     "data": {
      "image/png": "[encoded data removed]",
      "text/plain": [
       "<Figure size 432x288 with 1 Axes>"
      ]
     },
     "metadata": {},
     "output_type": "display_data"
    }
   ],
   "source": [
    "# for mexican\n",
    "labels = 'pepper', 'salt', 'ground', 'garlic', 'cheese', 'oil', 'cilantro', 'fresh', 'chicken', 'onions'\n",
    "sizes = [4355, 3913, 3495, 3224, 2994, 2978, 2794, 2597, 2461, 2370]\n",
    "explode = (0, 0, 0, 0, 0, 0, 0.1, 0, 0, 0)  # only \"explode\" the 2nd slice (i.e. 'Hogs')\n",
    "\n",
    "fig1, ax1 = plt.subplots()\n",
    "ax1.pie(sizes, explode=explode, labels=labels,\n",
    "        shadow=True, startangle=90)\n",
    "ax1.axis('equal')  # Equal aspect ratio ensures that pie is drawn as a circle.\n",
    "\n",
    "plt.show()"
   ]
  },
  {
   "cell_type": "code",
   "execution_count": 114,
   "id": "46751b3c",
   "metadata": {},
   "outputs": [
    {
     "data": {
      "image/png": "[encoded data removed]",
      "text/plain": [
       "<Figure size 432x288 with 1 Axes>"
      ]
     },
     "metadata": {},
     "output_type": "display_data"
    }
   ],
   "source": [
    "# for indian\n",
    "labels = 'ground', 'salt', 'oil', 'garlic', 'fresh', 'cumin', 'powder', 'ginger', 'pepper', 'onions'\n",
    "sizes = [2792, 2389, 2031, 1637, 1636, 1563, 1500, 1475, 1413, 1294]\n",
    "explode = (0, 0, 0, 0, 0, 0.1, 0, 0, 0, 0)  # only \"explode\" the 2nd slice (i.e. 'Hogs')\n",
    "\n",
    "fig1, ax1 = plt.subplots()\n",
    "ax1.pie(sizes, explode=explode, labels=labels,\n",
    "        shadow=True, startangle=90)\n",
    "ax1.axis('equal')  # Equal aspect ratio ensures that pie is drawn as a circle.\n",
    "\n",
    "plt.show()"
   ]
  },
  {
   "cell_type": "markdown",
   "id": "18cf4869",
   "metadata": {},
   "source": [
    "## Feature Engineering"
   ]
  },
  {
   "cell_type": "markdown",
   "id": "906ec5aa",
   "metadata": {},
   "source": [
    "Now we move to the feature engineering step. The weighted values of each ingredient for each row is calculated using TF-IDF method."
   ]
  },
  {
   "cell_type": "code",
   "execution_count": 115,
   "id": "5ed8baaf",
   "metadata": {},
   "outputs": [
    {
     "name": "stdout",
     "output_type": "stream",
     "text": [
      "  (0, 737)\t0.3342850337273161\n",
      "  (0, 514)\t0.14566825492643998\n",
      "  (0, 965)\t0.30400394602019953\n",
      "  (0, 169)\t0.2074660261516008\n",
      "  (0, 1096)\t0.3884899344761486\n",
      "  (0, 2438)\t0.2300545697461994\n",
      "  (0, 1900)\t0.16453186533503777\n",
      "  (0, 2213)\t0.2391068518841475\n",
      "  (0, 2029)\t0.1020732917707325\n",
      "  (0, 1102)\t0.10529956769097745\n",
      "  (0, 2818)\t0.15181908252212178\n",
      "  (0, 1179)\t0.3502745662929836\n",
      "  (0, 1896)\t0.26098157183361415\n",
      "  (0, 231)\t0.14063713569310485\n",
      "  (0, 1547)\t0.2663588843454822\n",
      "  (0, 2330)\t0.3426308034163987\n",
      "  (1, 1886)\t0.11549132147317556\n",
      "  (1, 2924)\t0.2107325798832065\n",
      "  (1, 1730)\t0.21005324207562454\n",
      "  (1, 1687)\t0.398269208090823\n",
      "  (1, 673)\t0.21832568961691898\n",
      "  (1, 3033)\t0.27462604691618225\n",
      "  (1, 1201)\t0.18766244702998996\n",
      "  (1, 904)\t0.19917356302194517\n",
      "  (1, 2796)\t0.26959523716481065\n",
      "  :\t:\n",
      "  (39772, 673)\t0.1059658842548699\n",
      "  (39772, 2384)\t0.052116715699356705\n",
      "  (39772, 1021)\t0.08818672837298537\n",
      "  (39772, 1102)\t0.061087556243514606\n",
      "  (39773, 481)\t0.2568242577720407\n",
      "  (39773, 2328)\t0.40063213857624447\n",
      "  (39773, 189)\t0.22118271903297224\n",
      "  (39773, 539)\t0.25470434411711035\n",
      "  (39773, 1909)\t0.2398277473542494\n",
      "  (39773, 865)\t0.21202162487354562\n",
      "  (39773, 2991)\t0.18444144419064007\n",
      "  (39773, 1376)\t0.26830517695790596\n",
      "  (39773, 591)\t0.1914198057919143\n",
      "  (39773, 572)\t0.18149321911790056\n",
      "  (39773, 1052)\t0.13714425201294192\n",
      "  (39773, 2694)\t0.1480286903825498\n",
      "  (39773, 1901)\t0.1445823447430233\n",
      "  (39773, 544)\t0.23854206082094104\n",
      "  (39773, 1201)\t0.34513265959173495\n",
      "  (39773, 2384)\t0.09874031332047702\n",
      "  (39773, 1215)\t0.13713929563168945\n",
      "  (39773, 2029)\t0.22438082551511\n",
      "  (39773, 1102)\t0.11573646501944378\n",
      "  (39773, 2818)\t0.1668668192938\n",
      "  (39773, 231)\t0.15457655992802782\n",
      "crumbles\n",
      "cheese\n",
      "feta\n",
      "beans\n",
      "garbanzo\n",
      "seasoning\n",
      "onion\n",
      "purple\n",
      "pepper\n",
      "garlic\n"
     ]
    }
   ],
   "source": [
    "# TFIDF Vectorizer package - assigns weighted values of each ingredient in each cuisine\n",
    "# Format is: (A,B) C\n",
    "# A = cuisine (one particular recipe)\n",
    "# B = ingredient \n",
    "# C = weighted value for that ingredient\n",
    "\n",
    "from sklearn.feature_extraction.text import TfidfVectorizer\n",
    "vectorizer = TfidfVectorizer()\n",
    "X = vectorizer.fit_transform(df['ing_mod'])\n",
    "\n",
    "print(X)\n",
    "\n",
    "#print(vectorizer.get_feature_names()) \n",
    "# allows you to look up specific ingredients for each cuisine (recipe)\n",
    "# a lower number corresponds to a more common ingredient\n",
    "# higher numbers correspond to more uncommon ingredients\n",
    "# for example, the first 10 ingredients for the first recipe in the list:\n",
    "print(vectorizer.get_feature_names()[737])\n",
    "print(vectorizer.get_feature_names()[514])\n",
    "print(vectorizer.get_feature_names()[965])\n",
    "print(vectorizer.get_feature_names()[169])\n",
    "print(vectorizer.get_feature_names()[1096])\n",
    "print(vectorizer.get_feature_names()[2438])\n",
    "print(vectorizer.get_feature_names()[1900])\n",
    "print(vectorizer.get_feature_names()[2213])\n",
    "print(vectorizer.get_feature_names()[2029])\n",
    "print(vectorizer.get_feature_names()[1102])"
   ]
  },
  {
   "cell_type": "markdown",
   "id": "627cfbde",
   "metadata": {},
   "source": [
    "Then, each cuisine is encoded to a number so that we can easily use the classification algorithms."
   ]
  },
  {
   "cell_type": "code",
   "execution_count": 116,
   "id": "666275af",
   "metadata": {},
   "outputs": [],
   "source": [
    "# encode the cuisines\n",
    "from sklearn import preprocessing\n",
    "label_encoder = preprocessing.LabelEncoder()\n",
    "label_encoder.fit(df['cuisine'])\n",
    "df['cuisine']=label_encoder.transform(df['cuisine']) "
   ]
  },
  {
   "cell_type": "code",
   "execution_count": 117,
   "id": "fcf8da9d",
   "metadata": {},
   "outputs": [
    {
     "data": {
      "text/plain": [
       "9     7838\n",
       "13    6438\n",
       "16    4320\n",
       "7     3003\n",
       "3     2673\n",
       "5     2646\n",
       "2     1546\n",
       "18    1539\n",
       "11    1423\n",
       "6     1175\n",
       "17     989\n",
       "12     830\n",
       "19     825\n",
       "14     821\n",
       "1      804\n",
       "4      755\n",
       "8      667\n",
       "10     526\n",
       "15     489\n",
       "0      467\n",
       "Name: cuisine, dtype: int64"
      ]
     },
     "execution_count": 117,
     "metadata": {},
     "output_type": "execute_result"
    }
   ],
   "source": [
    "df['cuisine'].value_counts()"
   ]
  },
  {
   "cell_type": "code",
   "execution_count": 118,
   "id": "de9cf5e7",
   "metadata": {},
   "outputs": [],
   "source": [
    "# Maps a number (0-19) to each cuisine type\n",
    "cuisine_map={'0':'brazilian', '1':'british', '2':'cajun_creole', '3':'chinese', '4':'filipino', '5':'french',\n",
    "             '6':'greek', '7':'indian', '8':'irish', '9':'italian', '10':'jamaican', '11':'japanese',\n",
    "             '12':'korean', '13':'mexican', '14':'moroccan', '15':'russian', '16':'southern_us', '17':'spanish',\n",
    "             '18':'thai', '19':'vietnamese'}"
   ]
  },
  {
   "cell_type": "code",
   "execution_count": 119,
   "id": "2e677819",
   "metadata": {},
   "outputs": [],
   "source": [
    "# Outputs the mapped cuisine value for each of the 39774 cuisines (recipes)\n",
    "Y=[]\n",
    "Y = df['cuisine']"
   ]
  },
  {
   "cell_type": "markdown",
   "id": "8e10f17d",
   "metadata": {},
   "source": [
    "## Implement Machine Learning Algorithms"
   ]
  },
  {
   "cell_type": "markdown",
   "id": "794a9990",
   "metadata": {},
   "source": [
    "Finally, we try three machine learning algorithms (K-Nearest neighbor, support vector machine, random forest) for classification here."
   ]
  },
  {
   "cell_type": "code",
   "execution_count": 120,
   "id": "ee96af3a",
   "metadata": {},
   "outputs": [],
   "source": [
    "# load the packages\n",
    "from sklearn import datasets, linear_model\n",
    "from sklearn.model_selection import cross_validate\n",
    "from sklearn.metrics import make_scorer\n",
    "from sklearn.metrics import confusion_matrix\n",
    "from sklearn.svm import LinearSVC\n",
    "from sklearn.neighbors import KNeighborsClassifier\n",
    "from sklearn.metrics import accuracy_score\n",
    "from sklearn.model_selection import train_test_split "
   ]
  },
  {
   "cell_type": "markdown",
   "id": "697339da",
   "metadata": {},
   "source": [
    "Training (80%) and test (20%) sets are split first."
   ]
  },
  {
   "cell_type": "code",
   "execution_count": 121,
   "id": "e6b6c319",
   "metadata": {},
   "outputs": [],
   "source": [
    "# Train, test, split\n",
    "X_train, X_test, y_train, y_test = train_test_split(X, Y, test_size = 0.2, random_state = 100)"
   ]
  },
  {
   "cell_type": "markdown",
   "id": "c6b80132",
   "metadata": {},
   "source": [
    "### Method 1: K-Nearest Neighbor"
   ]
  },
  {
   "cell_type": "code",
   "execution_count": 122,
   "id": "cb0cbb22",
   "metadata": {},
   "outputs": [
    {
     "name": "stdout",
     "output_type": "stream",
     "text": [
      "Accuracy is  69.22690131992456 % for K-Value: 1\n",
      "Accuracy is  67.40414833438089 % for K-Value: 2\n",
      "Accuracy is  71.06222501571338 % for K-Value: 3\n",
      "Accuracy is  72.0678818353237 % for K-Value: 4\n",
      "Accuracy is  72.74670018856065 % for K-Value: 5\n",
      "Accuracy is  72.9855436832181 % for K-Value: 6\n",
      "Accuracy is  73.41294783155247 % for K-Value: 7\n",
      "Accuracy is  73.66436203645506 % for K-Value: 8\n",
      "Accuracy is  74.00377121307355 % for K-Value: 9\n",
      "Accuracy is  73.73978629792583 % for K-Value: 10\n",
      "Accuracy is  74.01634192331866 % for K-Value: 11\n",
      "Accuracy is  74.05405405405405 % for K-Value: 12\n",
      "Accuracy is  74.12947831552484 % for K-Value: 13\n",
      "Accuracy is  74.16719044626021 % for K-Value: 14\n",
      "Accuracy is  74.26775612822124 % for K-Value: 15\n",
      "Accuracy is  74.46888749214331 % for K-Value: 16\n",
      "Accuracy is  74.53174104336895 % for K-Value: 17\n",
      "Accuracy is  74.39346323067252 % for K-Value: 18\n",
      "Accuracy is  74.4186046511628 % for K-Value: 19\n",
      "Accuracy is  74.3306096794469 % for K-Value: 20\n",
      "Accuracy is  74.20490257699561 % for K-Value: 21\n",
      "Accuracy is  74.06662476429918 % for K-Value: 22\n",
      "Accuracy is  74.34318038969202 % for K-Value: 23\n",
      "Accuracy is  74.15461973601508 % for K-Value: 24\n",
      "Accuracy is  74.21747328724074 % for K-Value: 25\n",
      "Accuracy is  74.04148334380892 % for K-Value: 26\n",
      "Accuracy is  74.14204902576995 % for K-Value: 27\n",
      "Accuracy is  74.23004399748586 % for K-Value: 28\n",
      "Accuracy is  74.35575109993715 % for K-Value: 29\n",
      "Accuracy is  74.17976115650534 % for K-Value: 30\n"
     ]
    }
   ],
   "source": [
    "# Method 1\n",
    "# KNN algorithm\n",
    "for K in range(30):\n",
    " K_value = K+1\n",
    " neigh = KNeighborsClassifier(n_neighbors = K_value, weights='uniform', algorithm='auto')\n",
    " neigh.fit(X_train, y_train) \n",
    " y_pred = neigh.predict(X_test)\n",
    " print(\"Accuracy is \", accuracy_score(y_test,y_pred)*100,\"% for K-Value:\",K_value)"
   ]
  },
  {
   "cell_type": "code",
   "execution_count": 128,
   "id": "6540d844",
   "metadata": {},
   "outputs": [
    {
     "name": "stdout",
     "output_type": "stream",
     "text": [
      "Best accuracy is  74.53174104336895 % for K-Value:17\n"
     ]
    }
   ],
   "source": [
    "# Implement KNN \n",
    "# Take the K value to be 17, since that is when accuracy is maximized\n",
    "neigh = KNeighborsClassifier(n_neighbors = 17, weights='uniform', algorithm='auto')\n",
    "neigh.fit(X_train, y_train) \n",
    "y_pred = neigh.predict(X_test)\n",
    "print(\"Best accuracy is \", accuracy_score(y_test,y_pred)*100,\"% for K-Value:17\")"
   ]
  },
  {
   "cell_type": "markdown",
   "id": "8f9b1220",
   "metadata": {},
   "source": [
    "### Method 2: Support Vector Machine"
   ]
  },
  {
   "cell_type": "markdown",
   "id": "7080eb91",
   "metadata": {},
   "source": [
    "Default hyperparameters of support vector machine are tested first."
   ]
  },
  {
   "cell_type": "code",
   "execution_count": 39,
   "id": "339c4c27",
   "metadata": {},
   "outputs": [
    {
     "name": "stdout",
     "output_type": "stream",
     "text": [
      "Model accuracy score : 0.7975\n"
     ]
    }
   ],
   "source": [
    "from sklearn.svm import SVC\n",
    "svc_def = SVC()\n",
    "svc_def.fit(X_train, y_train)\n",
    "\n",
    "# Print the overall accuracy\n",
    "from sklearn.metrics import accuracy_score\n",
    "y_pred_svm_def = svc_def.predict(X_test)\n",
    "print('Model accuracy score : {0:0.4f}'. format(accuracy_score(y_test, y_pred_svm_def)))"
   ]
  },
  {
   "cell_type": "markdown",
   "id": "e43febb3",
   "metadata": {},
   "source": [
    "To optimize the support vector machine classifier, hyperparameters are tuned by using GridSearchCV package."
   ]
  },
  {
   "cell_type": "code",
   "execution_count": 10,
   "id": "b238a6ef",
   "metadata": {},
   "outputs": [
    {
     "data": {
      "text/plain": [
       "GridSearchCV(estimator=SVC(),\n",
       "             param_grid={'C': [0.1, 1, 10, 100], 'gamma': [1, 0.1, 0.01, 0.001],\n",
       "                         'kernel': ['rbf', 'poly', 'sigmoid']})"
      ]
     },
     "execution_count": 10,
     "metadata": {},
     "output_type": "execute_result"
    }
   ],
   "source": [
    "# Hyperparameters tuning for SVM\n",
    "from sklearn.model_selection import GridSearchCV\n",
    "svc_params = {'C': [0.1,1, 10, 100], 'gamma': [1,0.1,0.01,0.001],'kernel': ['rbf', 'poly', 'sigmoid']}\n",
    "svc = GridSearchCV(SVC(), param_grid=svc_params)\n",
    "svc.fit(X_train, y_train)"
   ]
  },
  {
   "cell_type": "code",
   "execution_count": 11,
   "id": "715b6591",
   "metadata": {},
   "outputs": [
    {
     "name": "stdout",
     "output_type": "stream",
     "text": [
      "Model accuracy score : 0.8087\n"
     ]
    }
   ],
   "source": [
    "# Print the overall accuracy\n",
    "y_pred_svm = svc.predict(X_test)\n",
    "print('Model accuracy score : {0:0.4f}'. format(accuracy_score(y_test, y_pred_svm)))"
   ]
  },
  {
   "cell_type": "code",
   "execution_count": 13,
   "id": "ae6f3cc5",
   "metadata": {},
   "outputs": [
    {
     "data": {
      "text/plain": [
       "SVC(C=10, gamma=1)"
      ]
     },
     "execution_count": 13,
     "metadata": {},
     "output_type": "execute_result"
    }
   ],
   "source": [
    "svc.best_estimator_"
   ]
  },
  {
   "cell_type": "markdown",
   "id": "e66c1237",
   "metadata": {},
   "source": [
    "By optimizing hyperparameters, 1.12% of accuarcy has been increased."
   ]
  },
  {
   "cell_type": "markdown",
   "id": "1c2b21e6",
   "metadata": {},
   "source": [
    "### Method 3: Random Forest"
   ]
  },
  {
   "cell_type": "markdown",
   "id": "6d482e82",
   "metadata": {},
   "source": [
    "Default hyperparameters of random forest classification are tested first."
   ]
  },
  {
   "cell_type": "code",
   "execution_count": 41,
   "id": "d7f3f6dd",
   "metadata": {},
   "outputs": [
    {
     "name": "stdout",
     "output_type": "stream",
     "text": [
      "Model accuracy score : 0.7470\n"
     ]
    }
   ],
   "source": [
    "from sklearn.ensemble import RandomForestClassifier\n",
    "rf_def = RandomForestClassifier(random_state=100)\n",
    "rf_def.fit(X_train, y_train)\n",
    "\n",
    "# Print the overall accuracy\n",
    "y_pred_rf_def = rf_def.predict(X_test)\n",
    "print('Model accuracy score : {0:0.4f}'. format(accuracy_score(y_test, y_pred_rf_def)))"
   ]
  },
  {
   "cell_type": "markdown",
   "id": "531e2660",
   "metadata": {},
   "source": [
    "For hyperparameters tuning for random forest classification, two steps are applied.  \n",
    "First, RandomizedSearchCV will be used to narrow down the ranges of hyperparameters (random combinations of the candidates will be tried here),  \n",
    "Then, GridSearchCV will be used for comprehensive consideration of every possible combination of the candidates"
   ]
  },
  {
   "cell_type": "markdown",
   "id": "19cace6f",
   "metadata": {},
   "source": [
    "#### Randomized search"
   ]
  },
  {
   "cell_type": "code",
   "execution_count": 14,
   "id": "6fe3d647",
   "metadata": {},
   "outputs": [
    {
     "name": "stdout",
     "output_type": "stream",
     "text": [
      "Fitting 3 folds for each of 100 candidates, totalling 300 fits\n"
     ]
    },
    {
     "data": {
      "text/plain": [
       "{'n_estimators': 100,\n",
       " 'min_samples_split': 2,\n",
       " 'min_samples_leaf': 1,\n",
       " 'max_features': 'sqrt',\n",
       " 'max_depth': None,\n",
       " 'bootstrap': False}"
      ]
     },
     "execution_count": 14,
     "metadata": {},
     "output_type": "execute_result"
    }
   ],
   "source": [
    "from sklearn.model_selection import RandomizedSearchCV\n",
    "\n",
    "# define a broad range of each parameter for random forest classification\n",
    "n_estimators = [int(x) for x in np.linspace(start = 100, stop = 1000, num = 10)] # Number of trees in random forest\n",
    "max_features = ['auto', 'sqrt'] # Number of features to consider at every split\n",
    "max_depth = [int(x) for x in np.linspace(5, 50, num = 20)] # Maximum number of levels in tree\n",
    "max_depth.append(None)\n",
    "min_samples_split = [2, 5, 10] # Minimum number of samples required to split a node\n",
    "min_samples_leaf = [1, 2, 4] # Minimum number of samples required at each leaf node\n",
    "bootstrap = [True, False] # Method of selecting samples for training each tree\n",
    "\n",
    "rf_params_rs = {'n_estimators': n_estimators,\n",
    "               'max_features': max_features,\n",
    "               'max_depth': max_depth,\n",
    "               'min_samples_split': min_samples_split,\n",
    "               'min_samples_leaf': min_samples_leaf,\n",
    "               'bootstrap': bootstrap}\n",
    "\n",
    "# do random search\n",
    "rf_rs = RandomizedSearchCV(estimator=RandomForestClassifier(random_state=100), param_distributions = rf_params_rs, n_iter = 100, cv = 3, verbose=2, random_state=100, n_jobs = -1)\n",
    "rf_rs.fit(X_train, y_train)\n",
    "\n",
    "# print the best param from random search\n",
    "rf_rs.best_params_"
   ]
  },
  {
   "cell_type": "markdown",
   "id": "b64bbb75",
   "metadata": {},
   "source": [
    "#### Grid search"
   ]
  },
  {
   "cell_type": "code",
   "execution_count": 21,
   "id": "78b555a3",
   "metadata": {},
   "outputs": [
    {
     "name": "stdout",
     "output_type": "stream",
     "text": [
      "Fitting 3 folds for each of 90 candidates, totalling 270 fits\n"
     ]
    },
    {
     "data": {
      "text/plain": [
       "GridSearchCV(cv=3, estimator=RandomForestClassifier(random_state=100),\n",
       "             n_jobs=-1,\n",
       "             param_grid={'bootstrap': [False], 'max_depth': [None],\n",
       "                         'max_features': ['sqrt', 'auto'],\n",
       "                         'min_samples_leaf': [1, 2, 3],\n",
       "                         'min_samples_split': [2, 3, 4],\n",
       "                         'n_estimators': [100, 200, 300, 400, 500]},\n",
       "             verbose=2)"
      ]
     },
     "execution_count": 21,
     "metadata": {},
     "output_type": "execute_result"
    }
   ],
   "source": [
    "# Create the parameter grid based on the results of random search \n",
    "# numbers near the best parameters obtained from random search will be tried... just don't have the results now\n",
    "rf_params_gs = {\n",
    "    'n_estimators': [100, 200, 300, 400, 500],\n",
    "    'max_features': ['sqrt', 'auto'],\n",
    "    'max_depth': [None],\n",
    "    'min_samples_split': [2, 3, 4],\n",
    "    'min_samples_leaf': [1, 2, 3],\n",
    "    'bootstrap': [False]}\n",
    "\n",
    "rf_gs = GridSearchCV(estimator=RandomForestClassifier(random_state=100), param_grid=rf_params_gs, cv = 3, verbose=2, n_jobs = -1)\n",
    "rf_gs.fit(X_train, y_train)"
   ]
  },
  {
   "cell_type": "code",
   "execution_count": 22,
   "id": "c6f4ec03",
   "metadata": {},
   "outputs": [
    {
     "name": "stdout",
     "output_type": "stream",
     "text": [
      "Model accuracy score : 0.7614\n"
     ]
    }
   ],
   "source": [
    "# Print the overall accuracy\n",
    "y_pred_rf = rf_gs.predict(X_test)\n",
    "print('Model accuracy score : {0:0.4f}'. format(accuracy_score(y_test, y_pred_rf)))"
   ]
  },
  {
   "cell_type": "code",
   "execution_count": 24,
   "id": "fd8cd448",
   "metadata": {},
   "outputs": [
    {
     "data": {
      "text/plain": [
       "RandomForestClassifier(bootstrap=False, max_features='sqrt',\n",
       "                       min_samples_split=3, n_estimators=300, random_state=100)"
      ]
     },
     "execution_count": 24,
     "metadata": {},
     "output_type": "execute_result"
    }
   ],
   "source": [
    "rf_gs.best_estimator_"
   ]
  },
  {
   "cell_type": "markdown",
   "id": "c0cf5535",
   "metadata": {},
   "source": [
    "By optimizing hyperparameters, 1.44% of accuarcy has been increased."
   ]
  },
  {
   "cell_type": "markdown",
   "id": "c76a9bc1",
   "metadata": {},
   "source": [
    "In conclusion, SVM model shows the best performance in accuracy."
   ]
  }
 ],
 "metadata": {
  "kernelspec": {
   "display_name": "Python 3",
   "language": "python",
   "name": "python3"
  },
  "language_info": {
   "codemirror_mode": {
    "name": "ipython",
    "version": 3
   },
   "file_extension": ".py",
   "mimetype": "text/x-python",
   "name": "python",
   "nbconvert_exporter": "python",
   "pygments_lexer": "ipython3",
   "version": "3.7.11"
  }
 },
 "nbformat": 4,
 "nbformat_minor": 5
}
